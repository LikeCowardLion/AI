{
 "cells": [
  {
   "cell_type": "code",
   "execution_count": 26,
   "id": "ac4d122f-d3e9-49b7-89fd-3ef885e718ce",
   "metadata": {},
   "outputs": [],
   "source": [
    "from sklearn.preprocessing import StandardScaler, MinMaxScaler\n",
    "import tensorflow as tf\n",
    "import pandas as pd\n",
    "import numpy as np\n",
    "import pickle\n",
    "import glob"
   ]
  },
  {
   "cell_type": "code",
   "execution_count": 27,
   "id": "5cd42a05-e2db-4f18-a93f-4a3a840e2cf3",
   "metadata": {},
   "outputs": [],
   "source": [
    "# 그냥 간편하게 사용하려고 만든 함수인듯\n",
    "def load_puck_model(model_path):\n",
    "    return tf.keras.models.load_model(model_path)"
   ]
  },
  {
   "cell_type": "code",
   "execution_count": 28,
   "id": "65992032-c65d-4478-b62a-66b9e7b1afe1",
   "metadata": {},
   "outputs": [],
   "source": [
    "# MinMax 정규화\n",
    "\n",
    "def standardize_data(df, col, min_value, max_value):\n",
    "    #global scaler\n",
    "    scaler = MinMaxScaler()\n",
    "    \n",
    "    # 표준화할 데이터 준비 (예시로 특정 열만 사용)\n",
    "    df.reset_index(drop=True, inplace=True)\n",
    "    data_to_standardize = df.loc[:,[col]]\n",
    "\n",
    "    # min_value와 max_value를 Series로 변환\n",
    "    min_series = pd.Series([min_value], index=[len(data_to_standardize)])\n",
    "    max_series = pd.Series([max_value], index=[len(data_to_standardize) + 1])\n",
    "\n",
    "    # 최대값, 최솟값 삽입 (Series를 DataFrame에 추가)\n",
    "    data_to_standardize.loc[len(data_to_standardize)] = min_value\n",
    "    data_to_standardize.loc[len(data_to_standardize)] = max_value\n",
    "    \n",
    "    # 데이터를 표준화\n",
    "    standardized_data = scaler.fit_transform(data_to_standardize)\n",
    "\n",
    "    # 표준화된 데이터를 DataFrame으로 변환\n",
    "    standardized_df = pd.DataFrame(standardized_data, columns=[col])\n",
    "\n",
    "    # 원래 데이터에 표준화된 데이터로 업데이트\n",
    "    df.loc[:, [col]] = standardized_df[[col]].astype(float)\n",
    "\n",
    "    return df[[col]]"
   ]
  },
  {
   "cell_type": "code",
   "execution_count": 29,
   "id": "d0ea16a2-0610-45ee-afe1-c173c8fbaaa0",
   "metadata": {},
   "outputs": [],
   "source": [
    "# Acc_X, Acc_Y, Gyr_Z 추출하는 함수\n",
    "def extract_data(input_file):\n",
    "    file = pd.read_csv(input_file)\n",
    "    file.drop(['Time', 'Acc_Z', ' Gyr_X', ' Gyr_Y'], axis=1, inplace=True)\n",
    "    file = file.drop(0, axis=0)\n",
    "    file.reset_index(drop=True, inplace=True)\n",
    "    file = file.astype(float)\n",
    "    return file"
   ]
  },
  {
   "cell_type": "code",
   "execution_count": 30,
   "id": "c45963f2-8940-4531-931f-97295cd5cfee",
   "metadata": {},
   "outputs": [],
   "source": [
    "# 구간을 자르는 함수\n",
    "def cut_length(input_file):\n",
    "    normal_data = input_file.copy()\n",
    "\n",
    "    for col in normal_data.columns:\n",
    "        if col == \"Acc_X\":\n",
    "            normal_data[col] = standardize_data(normal_data, col, -4, 4)\n",
    "        elif col == \"Acc_Y\":\n",
    "            normal_data[col] = standardize_data(normal_data, col, -4, 4)\n",
    "        else:\n",
    "            normal_data[col] = standardize_data(normal_data, col, -2000, 2000)\n",
    "        \n",
    "    for j in range(1, len(input_file)):\n",
    "        if abs(float(input_file.iloc[j]['Acc_X'])) > 0.1:\n",
    "            insert_data = normal_data[j:j+10]\n",
    "            break\n",
    "    return insert_data.values"
   ]
  },
  {
   "cell_type": "code",
   "execution_count": 31,
   "id": "043e3d73-9ed2-4bc7-9223-3de496590089",
   "metadata": {},
   "outputs": [],
   "source": [
    "def puck_predict(input_file):\n",
    "    model = load_puck_model('path106')\n",
    "    # 예측 시 스케일러 불러오기\n",
    "    with open('scaler.pkl', 'rb') as f:\n",
    "        scaler = pickle.load(f)\n",
    "    # 데이터 전처리\n",
    "    data = []\n",
    "    \n",
    "    file = extract_data(input_file)\n",
    "    insert_data = cut_length(file)\n",
    "    data.append(insert_data)\n",
    "    data = np.array(data)\n",
    "    \n",
    "    score = model.predict(data)\n",
    "    result = scaler.inverse_transform(score)\n",
    "\n",
    "    return result"
   ]
  },
  {
   "cell_type": "code",
   "execution_count": 36,
   "id": "466865dc-73a8-4f58-b7db-a86b6b7d1add",
   "metadata": {},
   "outputs": [
    {
     "data": {
      "text/plain": [
       "'D:\\\\ㅎㅅㅂ\\\\Puck_data\\\\Assets\\\\SensorData_20250115_180023(95,308,64).csv'"
      ]
     },
     "execution_count": 36,
     "metadata": {},
     "output_type": "execute_result"
    }
   ],
   "source": [
    "# 파일 전부 읽어오기\n",
    "\n",
    "path = \"D:\\ㅎㅅㅂ\\Puck_data\"\n",
    "\n",
    "file_list = glob.glob(path+'/**')\n",
    "files = []\n",
    "for i in range(len(file_list)):\n",
    "    f = glob.glob(file_list[i]+'/**')\n",
    "    for x in f:\n",
    "        if x.endswith('.csv'):\n",
    "            files.append(x)\n",
    "input_file = files[len(files)-1]\n",
    "input_file"
   ]
  },
  {
   "cell_type": "code",
   "execution_count": 37,
   "id": "acb5f705-b5e9-4bd9-9c46-22090b7ea1bd",
   "metadata": {},
   "outputs": [
    {
     "name": "stdout",
     "output_type": "stream",
     "text": [
      "1/1 [==============================] - 0s 87ms/step\n"
     ]
    },
    {
     "data": {
      "text/plain": [
       "array([[181.94423, 315.31696]], dtype=float32)"
      ]
     },
     "execution_count": 37,
     "metadata": {},
     "output_type": "execute_result"
    }
   ],
   "source": [
    "puck_predict(input_file)"
   ]
  },
  {
   "cell_type": "code",
   "execution_count": null,
   "id": "3d02e9af-1415-43bf-bb24-179de911aa0d",
   "metadata": {},
   "outputs": [],
   "source": []
  }
 ],
 "metadata": {
  "kernelspec": {
   "display_name": "Python 3 (ipykernel)",
   "language": "python",
   "name": "python3"
  },
  "language_info": {
   "codemirror_mode": {
    "name": "ipython",
    "version": 3
   },
   "file_extension": ".py",
   "mimetype": "text/x-python",
   "name": "python",
   "nbconvert_exporter": "python",
   "pygments_lexer": "ipython3",
   "version": "3.10.13"
  }
 },
 "nbformat": 4,
 "nbformat_minor": 5
}
